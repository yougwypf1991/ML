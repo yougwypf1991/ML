{
 "cells": [
  {
   "cell_type": "markdown",
   "metadata": {},
   "source": [
    "* 均值移除\n",
    "$ \\frac{原始样本-样本均值}{样本标准差} $"
   ]
  },
  {
   "cell_type": "code",
   "execution_count": null,
   "metadata": {},
   "outputs": [],
   "source": [
    "# 均值移除\n",
    "from __future__ import unicode_literals\n",
    "import numpy as np\n",
    "raw_samples = np.array([\n",
    "    [3, -1.5, 2, -5.4],\n",
    "    [0, 4, -0.3, 2.1],\n",
    "    [1, 3.3, -1.9, -4.3]\n",
    "])\n",
    "print(raw_samples)"
   ]
  },
  {
   "cell_type": "code",
   "execution_count": 4,
   "metadata": {},
   "outputs": [
    {
     "name": "stdout",
     "output_type": "stream",
     "text": [
      "[ 1.33333333  1.93333333 -0.06666667 -2.53333333]\n"
     ]
    }
   ],
   "source": [
    "# 求每一列的平均值\n",
    "print(raw_samples.mean(axis=0))"
   ]
  },
  {
   "cell_type": "code",
   "execution_count": 5,
   "metadata": {},
   "outputs": [
    {
     "name": "stdout",
     "output_type": "stream",
     "text": [
      "[1.24721913 2.44449495 1.60069429 3.30689515]\n"
     ]
    }
   ],
   "source": [
    "# 求每一列的标准差\n",
    "print(raw_samples.std(axis=0))"
   ]
  },
  {
   "cell_type": "code",
   "execution_count": 10,
   "metadata": {},
   "outputs": [
    {
     "name": "stdout",
     "output_type": "stream",
     "text": [
      "均值移除后的矩阵：\n",
      " [[ 1.33630621 -1.40451644  1.29110641 -0.86687558]\n",
      " [-1.06904497  0.84543708 -0.14577008  1.40111286]\n",
      " [-0.26726124  0.55907936 -1.14533633 -0.53423728]]\n",
      "均值移除后的矩阵的均值\n",
      " [ 5.55111512e-17 -1.11022302e-16 -7.40148683e-17 -7.40148683e-17]\n",
      "均值移除后的矩阵的标准差\n",
      " [1. 1. 1. 1.]\n"
     ]
    }
   ],
   "source": [
    "std_samples = raw_samples.copy()\n",
    "for col in std_samples.T:\n",
    "    col_mean = col.mean()\n",
    "    col_std = col.std()\n",
    "    col -= col_mean\n",
    "    col /= col_std\n",
    "    \n",
    "print('均值移除后的矩阵：\\n',std_samples, end = '\\n')\n",
    "print('均值移除后的矩阵的均值\\n', std_samples.mean(axis=0), end = '\\n')\n",
    "print('均值移除后的矩阵的标准差\\n', std_samples.std(axis=0), end = '\\n')"
   ]
  },
  {
   "cell_type": "markdown",
   "metadata": {},
   "source": [
    "# 使用sklearn"
   ]
  },
  {
   "cell_type": "code",
   "execution_count": 7,
   "metadata": {},
   "outputs": [],
   "source": [
    "import sklearn.preprocessing as sp"
   ]
  },
  {
   "cell_type": "code",
   "execution_count": 11,
   "metadata": {},
   "outputs": [
    {
     "name": "stdout",
     "output_type": "stream",
     "text": [
      "sklearn-均值移除后的矩阵：\n",
      " [[ 1.33630621 -1.40451644  1.29110641 -0.86687558]\n",
      " [-1.06904497  0.84543708 -0.14577008  1.40111286]\n",
      " [-0.26726124  0.55907936 -1.14533633 -0.53423728]]\n",
      "sklearn-均值移除后的矩阵的均值\n",
      " [ 5.55111512e-17 -1.11022302e-16 -7.40148683e-17 -7.40148683e-17]\n",
      "sklearn-均值移除后的矩阵的标准差\n",
      " [1. 1. 1. 1.]\n"
     ]
    }
   ],
   "source": [
    "std_samples = sp.scale(raw_samples)    # 返回均值移除后的样本矩阵\n",
    "print('sklearn-均值移除后的矩阵：\\n',std_samples, end = '\\n')\n",
    "print('sklearn-均值移除后的矩阵的均值\\n', std_samples.mean(axis=0), end = '\\n')\n",
    "print('sklearn-均值移除后的矩阵的标准差\\n', std_samples.std(axis=0), end = '\\n')"
   ]
  },
  {
   "cell_type": "markdown",
   "metadata": {},
   "source": [
    "# 数值缩放"
   ]
  },
  {
   "cell_type": "code",
   "execution_count": 18,
   "metadata": {},
   "outputs": [
    {
     "name": "stdout",
     "output_type": "stream",
     "text": [
      "[[1.         0.         1.95       0.        ]\n",
      " [0.         1.375      0.8        3.57142857]\n",
      " [0.33333333 1.2        0.         0.52380952]]\n"
     ]
    }
   ],
   "source": [
    "mms_samples = raw_samples.copy()\n",
    "for col in mms_samples.T:\n",
    "    col_min = col.min()\n",
    "    col_max = col.max()\n",
    "    a = np.array([\n",
    "        [col_min, 1], \n",
    "        [col_max, 0]\n",
    "    ])*-\n",
    "    b = np.array([0, 1])\n",
    "    x = np.linalg.solve(a, b)   # 解线性方程组\n",
    "    col *= x[0]\n",
    "    col += x[1]\n",
    "print(mms_samples)"
   ]
  },
  {
   "cell_type": "markdown",
   "metadata": {},
   "source": [
    "* 使用sklearn"
   ]
  },
  {
   "cell_type": "code",
   "execution_count": 15,
   "metadata": {},
   "outputs": [
    {
     "name": "stdout",
     "output_type": "stream",
     "text": [
      "[[1.         0.         1.         0.        ]\n",
      " [0.         1.         0.41025641 1.        ]\n",
      " [0.33333333 0.87272727 0.         0.14666667]]\n"
     ]
    }
   ],
   "source": [
    "mms = sp.MinMaxScaler(feature_range=(0, 1))\n",
    "mms_samples = mms.fit_transform(raw_samples)\n",
    "print(mms_samples)"
   ]
  },
  {
   "cell_type": "code",
   "execution_count": null,
   "metadata": {},
   "outputs": [],
   "source": []
  }
 ],
 "metadata": {
  "kernelspec": {
   "display_name": "Python 3",
   "language": "python",
   "name": "python3"
  },
  "language_info": {
   "codemirror_mode": {
    "name": "ipython",
    "version": 3
   },
   "file_extension": ".py",
   "mimetype": "text/x-python",
   "name": "python",
   "nbconvert_exporter": "python",
   "pygments_lexer": "ipython3",
   "version": "3.6.4"
  }
 },
 "nbformat": 4,
 "nbformat_minor": 2
}
