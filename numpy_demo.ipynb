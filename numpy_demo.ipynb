{
 "cells": [
  {
   "cell_type": "code",
   "execution_count": 85,
   "metadata": {},
   "outputs": [
    {
     "name": "stdout",
     "output_type": "stream",
     "text": [
      "[[ 9.79795897]\n",
      " [ 4.89897949]\n",
      " [19.59591794]\n",
      " [34.2928564 ]]\n"
     ]
    }
   ],
   "source": [
    "a = [3,6,8,10,1,2,1]\n",
    "\n",
    "def quicksort(arr):\n",
    "    if len(arr) <= 1:\n",
    "        return arr\n",
    "    pivot = arr[len(arr) // 2]\n",
    "    left = [x for x in arr if x < pivot]\n",
    "    middle = [x for x in arr if x == pivot]\n",
    "    right = [x for x in arr if x > pivot]\n",
    "    return quicksort(left) + middle + quicksort(right)\n",
    "\n",
    "# print(quicksort(a))\n",
    "# print(set(quicksort(a)))\n",
    "# s = 'hello'\n",
    "# print(s.capitalize())\n",
    "# print(s.upper())\n",
    "# print(s.rjust(20))\n",
    "# print(s.ljust(20))\n",
    "# print(s.center(20))\n",
    "# print(s.replace('l', 'ppp'))\n",
    "# print(s.ljust(20).strip())\n",
    "\n",
    "# animals = ['cat', 'dog', 'monkey']\n",
    "# for idx, animal in enumerate(animals):\n",
    "#     print('#%d: %s' % (idx + 1, animal))\n",
    "\n",
    "# d = {'person': 2, 'cat': 4, 'spider': 8}\n",
    "#  python3 中 items是将字典转换为列表，列表的元素是键值对组成的元组\n",
    "#  python2中itemiters是将字典转换为可迭代对象，返回的是键值对组成的可迭代对象\n",
    "# for animal, legs in d.items():     \n",
    "#     print('A %s has %d legs' % (animal, legs))\n",
    "\n",
    "\n",
    "import numpy as np\n",
    "\n",
    "x = np.array([[1,2,3], [4,5,6], [7,8,9], [10, 11, 12]])\n",
    "# v = np.array([1, 0, 1])\n",
    "# y = np.empty_like(x)\n",
    "# print('x = ', x, sep='\\n')\n",
    "# print('y = ', y, sep='\\n')\n",
    "\n",
    "# m = np.zeros(x.shape)\n",
    "# print(m.shape)\n",
    "# print(v.shape)\n",
    "# m = m + v\n",
    "# vv = np.tile(x, (4, 1))\n",
    "# print(vv)\n",
    "# print(vv.shape)\n",
    "# print(x)\n",
    "# y = np.array(range(4)).reshape(4,1)   # [0, 1, 2, 3].T\n",
    "# z = np.array(range(3))  # [0, 1, 2]\n",
    "# y + z\n",
    "\n",
    "# from scipy.misc import imread, imsave, imshow, imresize\n",
    "\n",
    "# img = imread('2.jpg')\n",
    "# print(img.shape, img.dtype)\n",
    "# img_tinted = img * [1, 0.95, 0.9]\n",
    "# print(img_tinted.shape, img_tinted.dtype)\n",
    "# img_tinted = imresize(img_tinted, (300, 300))\n",
    "# import matplotlib.pyplot as plt\n",
    "# plt.imshow(np.float64(img_tinted))   \n",
    "# # 不能直接用imshow()函数\n",
    "# plt.show()\n",
    "# imsave('cat_tinted.jpg', img_tinted)\n",
    "\n",
    "\n",
    "from scipy.spatial.distance import cdist\n",
    "a = np.array(range(24)).reshape(4,6)\n",
    "b = np.array(range(4, 10)).reshape(1,6)\n",
    "d = cdist(a, b, 'euclidean')\n",
    "print(d)"
   ]
  },
  {
   "cell_type": "markdown",
   "metadata": {},
   "source": [
    "# 用list实现矩阵乘法"
   ]
  },
  {
   "cell_type": "code",
   "execution_count": 105,
   "metadata": {},
   "outputs": [
    {
     "name": "stdout",
     "output_type": "stream",
     "text": [
      "[[2 3]\n",
      " [4 5]\n",
      " [6 7]]\n",
      "[[2, 4, 6], [3, 5, 7]]\n",
      "[[1 2 3]\n",
      " [4 5 6]]\n",
      "[[28, 34], [64, 79]]\n"
     ]
    }
   ],
   "source": [
    "\n",
    "class MyArray():\n",
    "    def __init__(self):\n",
    "        pass\n",
    "    \n",
    "    def matrixMultiply(self, A, B):\n",
    "        # 获取A的行数和列数\n",
    "        A_row, A_col = A.shape\n",
    "        # 获取B的行数和列数\n",
    "        B_row, B_col = B.shape\n",
    "        # 不能运算情况的判断\n",
    "        if(A_col != B_row):\n",
    "            raise ValueError('输入元素不匹配')\n",
    "\n",
    "        # 最终的矩阵\n",
    "        result = []\n",
    "\n",
    "        # zip 解包后是转置后的元组，强转成list, 存入result中，相当于转置\n",
    "        BT = [list(row) for row in zip(*B)]\n",
    "        print(b, BT, A,sep='\\n')\n",
    "        # 开始做乘积运算\n",
    "        for A_index in range(A_row):\n",
    "            # 用于记录新矩阵的每行元素\n",
    "            rowItem = []\n",
    "            for B_index in range(len(BT)):\n",
    "                # num 用于累加\n",
    "                num = 0\n",
    "                for Br in range(len(BT[B_index])):\n",
    "                    num +=  A[A_index][Br] * BT[B_index][Br]\n",
    "                # 累加完成后，将数据存入新矩阵的行中\n",
    "                rowItem.append(num)\n",
    "            result.append(rowItem)\n",
    "        return result\n",
    "        \n",
    "a = np.array(range(1, 7)).reshape(2, 3)\n",
    "b = np.array(range(2, 8)).reshape(3, 2)\n",
    "#print(a)\n",
    "#print(b)\n",
    "cls = MyArray()\n",
    "print(cls.matrixMultiply(a,b))\\\n"
   ]
  },
  {
   "cell_type": "code",
   "execution_count": 116,
   "metadata": {},
   "outputs": [
    {
     "name": "stdout",
     "output_type": "stream",
     "text": [
      "A=\n",
      "[[1 2 3]\n",
      " [4 5 6]]\n",
      "BT=\n",
      "[[2, 4, 6], [3, 5, 7]]\n",
      "[[28, 34], [64, 79]]\n"
     ]
    }
   ],
   "source": [
    "def MatMul(A, B):\n",
    "    A_row, A_col = A.shape\n",
    "    B_row, B_col = B.shape\n",
    "    if A_col != B_row:\n",
    "        raise ValueError(\"input array subject to m*n * n*m. Please try again.\")\n",
    "    # 计算矩阵B的转置\n",
    "    BT = [list(row) for row in zip(*B)]\n",
    "    print('A=', A, 'BT=', BT, sep='\\n')\n",
    "    result = [] # 最终结果\n",
    "    for A_idx in range(len(A)):\n",
    "        row_items = []  # 记录行\n",
    "        for BT_idx in range(len(BT)):\n",
    "            num = 0\n",
    "            for BT_row_idx in range(len(BT[BT_idx])):\n",
    "                num += A[A_idx][BT_row_idx] * BT[BT_idx][BT_row_idx]\n",
    "            row_items.append(num)\n",
    "        result.append(row_items)\n",
    "    \n",
    "    return result\n",
    "    \n",
    "a = np.array(range(1, 7)).reshape(2, 3)\n",
    "b = np.array(range(2, 8)).reshape(3, 2)\n",
    "c = MatMul(a,b)\n",
    "print(c)"
   ]
  },
  {
   "cell_type": "code",
   "execution_count": null,
   "metadata": {},
   "outputs": [],
   "source": []
  }
 ],
 "metadata": {
  "kernelspec": {
   "display_name": "Python 3",
   "language": "python",
   "name": "python3"
  },
  "language_info": {
   "codemirror_mode": {
    "name": "ipython",
    "version": 3
   },
   "file_extension": ".py",
   "mimetype": "text/x-python",
   "name": "python",
   "nbconvert_exporter": "python",
   "pygments_lexer": "ipython3",
   "version": "3.6.4"
  }
 },
 "nbformat": 4,
 "nbformat_minor": 2
}
